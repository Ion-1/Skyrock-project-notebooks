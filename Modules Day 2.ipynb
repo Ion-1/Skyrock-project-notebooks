{
 "cells": [
  {
   "cell_type": "markdown",
   "metadata": {},
   "source": [
    "### First module"
   ]
  },
  {
   "cell_type": "code",
   "execution_count": 2,
   "metadata": {},
   "outputs": [],
   "source": [
    "import mymodule"
   ]
  },
  {
   "cell_type": "code",
   "execution_count": 4,
   "metadata": {},
   "outputs": [
    {
     "data": {
      "text/plain": [
       "True"
      ]
     },
     "execution_count": 4,
     "metadata": {},
     "output_type": "execute_result"
    }
   ],
   "source": [
    "mymodule.is_palindrome('helleh')"
   ]
  },
  {
   "cell_type": "code",
   "execution_count": 5,
   "metadata": {},
   "outputs": [],
   "source": [
    "from mymodule import is_palindrome"
   ]
  },
  {
   "cell_type": "code",
   "execution_count": 7,
   "metadata": {},
   "outputs": [
    {
     "data": {
      "text/plain": [
       "True"
      ]
     },
     "execution_count": 7,
     "metadata": {},
     "output_type": "execute_result"
    }
   ],
   "source": [
    "is_palindrome(str(565))"
   ]
  },
  {
   "cell_type": "code",
   "execution_count": 8,
   "metadata": {},
   "outputs": [],
   "source": [
    "import collections"
   ]
  },
  {
   "cell_type": "code",
   "execution_count": 10,
   "metadata": {},
   "outputs": [],
   "source": [
    "from collections import Counter"
   ]
  },
  {
   "cell_type": "code",
   "execution_count": 12,
   "metadata": {},
   "outputs": [
    {
     "data": {
      "text/plain": [
       "Counter({'T': 1, 'e': 1, 'h': 1, 'l': 2, 'n': 1, 'o': 2, 'y': 1})"
      ]
     },
     "execution_count": 12,
     "metadata": {},
     "output_type": "execute_result"
    }
   ],
   "source": [
    "Counter('helloTony')"
   ]
  },
  {
   "cell_type": "code",
   "execution_count": 13,
   "metadata": {},
   "outputs": [],
   "source": [
    "article='''The Wall Street Journal is an American business-focused, English-language international daily newspaper based in New York City. The Journal, along with its Asian and European editions, is published six days a week by Dow Jones & Company, a division of News Corp. The newspaper is published in the broadsheet format and online.\n",
    "The Wall Street Journal is the largest newspaper in the United States by circulation. According to the Alliance for Audited Media, the Journal had a circulation of about 2.4 million copies (including nearly 900,000 digital subscriptions) as of March 2013,[2] compared with USA Today's 1.7 million.\n",
    "The newspaper has won 40 Pulitzer Prizes through 2017[3] and derives its name from Wall Street in the heart of the Financial District of Lower Manhattan. The Journal has been printed continuously since its inception on July 8, 1889, by Charles Dow, Edward Jones, and Charles Bergstresser.\n",
    "The Journal also publishes the luxury news and lifestyle magazine WSJ.\n",
    "Unlike other newspaper websites, the website requires a membership to read full articles. Non-members will only display a little of the text in the article.[4]'''"
   ]
  },
  {
   "cell_type": "code",
   "execution_count": 14,
   "metadata": {},
   "outputs": [
    {
     "data": {
      "text/plain": [
       "\"The Wall Street Journal is an American business-focused, English-language international daily newspaper based in New York City. The Journal, along with its Asian and European editions, is published six days a week by Dow Jones & Company, a division of News Corp. The newspaper is published in the broadsheet format and online.\\nThe Wall Street Journal is the largest newspaper in the United States by circulation. According to the Alliance for Audited Media, the Journal had a circulation of about 2.4 million copies (including nearly 900,000 digital subscriptions) as of March 2013,[2] compared with USA Today's 1.7 million.\\nThe newspaper has won 40 Pulitzer Prizes through 2017[3] and derives its name from Wall Street in the heart of the Financial District of Lower Manhattan. The Journal has been printed continuously since its inception on July 8, 1889, by Charles Dow, Edward Jones, and Charles Bergstresser.\\nThe Journal also publishes the luxury news and lifestyle magazine WSJ.\\nUnlike other newspaper websites, the website requires a membership to read full articles. Non-members will only display a little of the text in the article.[4]\""
      ]
     },
     "execution_count": 14,
     "metadata": {},
     "output_type": "execute_result"
    }
   ],
   "source": [
    "article"
   ]
  },
  {
   "cell_type": "markdown",
   "metadata": {},
   "source": [
    "Find the most common alphabet in the variable `article` above"
   ]
  },
  {
   "cell_type": "code",
   "execution_count": 25,
   "metadata": {},
   "outputs": [
    {
     "data": {
      "text/plain": [
       "[(' ', 176), ('e', 101), ('i', 76)]"
      ]
     },
     "execution_count": 25,
     "metadata": {},
     "output_type": "execute_result"
    }
   ],
   "source": [
    "Counter(article)\n",
    "counts=Counter(article)\n",
    "counts.most_common(3)"
   ]
  },
  {
   "cell_type": "code",
   "execution_count": 35,
   "metadata": {},
   "outputs": [
    {
     "data": {
      "text/plain": [
       "'ion'"
      ]
     },
     "execution_count": 35,
     "metadata": {},
     "output_type": "execute_result"
    }
   ],
   "source": [
    "'Ion'.lower()"
   ]
  },
  {
   "cell_type": "code",
   "execution_count": 36,
   "metadata": {},
   "outputs": [
    {
     "data": {
      "text/plain": [
       "'ION'"
      ]
     },
     "execution_count": 36,
     "metadata": {},
     "output_type": "execute_result"
    }
   ],
   "source": [
    "'Ion'.upper()"
   ]
  },
  {
   "cell_type": "code",
   "execution_count": 38,
   "metadata": {},
   "outputs": [
    {
     "data": {
      "text/plain": [
       "\"the wall street journal is an american business-focused, english-language international daily newspaper based in new york city. the journal, along with its asian and european editions, is published six days a week by dow jones & company, a division of news corp. the newspaper is published in the broadsheet format and online.\\nthe wall street journal is the largest newspaper in the united states by circulation. according to the alliance for audited media, the journal had a circulation of about 2.4 million copies (including nearly 900,000 digital subscriptions) as of march 2013,[2] compared with usa today's 1.7 million.\\nthe newspaper has won 40 pulitzer prizes through 2017[3] and derives its name from wall street in the heart of the financial district of lower manhattan. the journal has been printed continuously since its inception on july 8, 1889, by charles dow, edward jones, and charles bergstresser.\\nthe journal also publishes the luxury news and lifestyle magazine wsj.\\nunlike other newspaper websites, the website requires a membership to read full articles. non-members will only display a little of the text in the article.[4]\""
      ]
     },
     "execution_count": 38,
     "metadata": {},
     "output_type": "execute_result"
    }
   ],
   "source": [
    "article.lower()"
   ]
  },
  {
   "cell_type": "code",
   "execution_count": 41,
   "metadata": {},
   "outputs": [
    {
     "data": {
      "text/plain": [
       "[('the', 18), ('of', 6), ('journal', 5)]"
      ]
     },
     "execution_count": 41,
     "metadata": {},
     "output_type": "execute_result"
    }
   ],
   "source": [
    "du = article.lower()\n",
    "bu = du.split()\n",
    "ou = Counter(bu)\n",
    "ou.most_common(3)"
   ]
  },
  {
   "cell_type": "code",
   "execution_count": null,
   "metadata": {},
   "outputs": [],
   "source": []
  },
  {
   "cell_type": "markdown",
   "metadata": {},
   "source": [
    "Write a function named `firstlast` which takes a string `s` and returns a list each element of which is a pair of string `xy` where `x` is ith element from beginning and `y` is ith element from the end for all values of i from 0 to `len(s)-1`\n",
    "\n",
    "`firstlast('apple')` should return:\n",
    "\n",
    "`[ae,pl,pp,lp,ea]`"
   ]
  },
  {
   "cell_type": "markdown",
   "metadata": {},
   "source": [
    "Real Code"
   ]
  },
  {
   "cell_type": "code",
   "execution_count": 47,
   "metadata": {},
   "outputs": [],
   "source": [
    "def firstlast(s):\n",
    "    a=0\n",
    "    b=-1\n",
    "    c = []\n",
    "    for i in s:\n",
    "        d = s[a] + s[b]\n",
    "        c.append(d)\n",
    "        a = a+1\n",
    "        b = b-1\n",
    "    return c\n",
    "        "
   ]
  },
  {
   "cell_type": "code",
   "execution_count": 49,
   "metadata": {},
   "outputs": [
    {
     "data": {
      "text/plain": [
       "['ae', 'pl', 'pp', 'lp', 'ea']"
      ]
     },
     "execution_count": 49,
     "metadata": {},
     "output_type": "execute_result"
    }
   ],
   "source": [
    "firstlast('apple')"
   ]
  },
  {
   "cell_type": "markdown",
   "metadata": {},
   "source": [
    "Corrected/Changed Code"
   ]
  },
  {
   "cell_type": "code",
   "execution_count": 61,
   "metadata": {},
   "outputs": [],
   "source": [
    "def firstlast(s):\n",
    "    c = []\n",
    "    for i in range(len(s)):\n",
    "        d = s[i] + s[-i-1]\n",
    "        c.append(d)\n",
    "    return c\n",
    "        "
   ]
  },
  {
   "cell_type": "code",
   "execution_count": 62,
   "metadata": {},
   "outputs": [
    {
     "data": {
      "text/plain": [
       "['ae', 'pl', 'pp', 'lp', 'ea']"
      ]
     },
     "execution_count": 62,
     "metadata": {},
     "output_type": "execute_result"
    }
   ],
   "source": [
    "firstlast('apple')"
   ]
  },
  {
   "cell_type": "markdown",
   "metadata": {},
   "source": [
    "Write a function that takes in a string and returns True if the string is a palindrome and False otherwise. Use recursion this time."
   ]
  },
  {
   "cell_type": "code",
   "execution_count": 67,
   "metadata": {},
   "outputs": [],
   "source": [
    "def palindrome_recursion(s):\n",
    "    if len(s)==1:\n",
    "        return True\n",
    "    if len(s)==2 and s[0]==s[1]:\n",
    "        return True\n",
    "    if s[0]==s[-1]:\n",
    "        return palindrome_recursion(s[1:-1])\n",
    "    else:\n",
    "        return False"
   ]
  },
  {
   "cell_type": "code",
   "execution_count": 68,
   "metadata": {},
   "outputs": [
    {
     "data": {
      "text/plain": [
       "True"
      ]
     },
     "execution_count": 68,
     "metadata": {},
     "output_type": "execute_result"
    }
   ],
   "source": [
    "palindrome_recursion('gegeg')"
   ]
  },
  {
   "cell_type": "markdown",
   "metadata": {},
   "source": [
    "Write a function that takes a number n and returns the sum of all numbers from 1 to n. Use recursion."
   ]
  },
  {
   "cell_type": "code",
   "execution_count": 73,
   "metadata": {},
   "outputs": [],
   "source": [
    "def summing(s):\n",
    "    if s == 1:\n",
    "        return 1\n",
    "    else:\n",
    "        return s + summing(s-1)\n",
    "    "
   ]
  },
  {
   "cell_type": "code",
   "execution_count": 74,
   "metadata": {},
   "outputs": [
    {
     "data": {
      "text/plain": [
       "15"
      ]
     },
     "execution_count": 74,
     "metadata": {},
     "output_type": "execute_result"
    }
   ],
   "source": [
    "summing(5)"
   ]
  },
  {
   "cell_type": "code",
   "execution_count": 76,
   "metadata": {},
   "outputs": [
    {
     "name": "stdout",
     "output_type": "stream",
     "text": [
      "1\n",
      "3\n",
      "6\n",
      "10\n",
      "15\n",
      "21\n"
     ]
    }
   ],
   "source": [
    "for i in range(6):\n",
    "    print(summing(i+1))"
   ]
  },
  {
   "cell_type": "code",
   "execution_count": null,
   "metadata": {},
   "outputs": [],
   "source": []
  }
 ],
 "metadata": {
  "kernelspec": {
   "display_name": "Python 3",
   "language": "python",
   "name": "python3"
  },
  "language_info": {
   "codemirror_mode": {
    "name": "ipython",
    "version": 3
   },
   "file_extension": ".py",
   "mimetype": "text/x-python",
   "name": "python",
   "nbconvert_exporter": "python",
   "pygments_lexer": "ipython3",
   "version": "3.6.3"
  }
 },
 "nbformat": 4,
 "nbformat_minor": 2
}
