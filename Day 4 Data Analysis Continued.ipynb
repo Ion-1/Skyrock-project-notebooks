{
 "cells": [
  {
   "cell_type": "code",
   "execution_count": 1,
   "metadata": {},
   "outputs": [],
   "source": [
    "import pandas as pd"
   ]
  },
  {
   "cell_type": "code",
   "execution_count": 2,
   "metadata": {},
   "outputs": [],
   "source": [
    "import numpy as np"
   ]
  },
  {
   "cell_type": "code",
   "execution_count": 73,
   "metadata": {},
   "outputs": [],
   "source": [
    "vals = [465,456,5684,6475,4356,635,52468,645,564,56,65]"
   ]
  },
  {
   "cell_type": "code",
   "execution_count": 74,
   "metadata": {},
   "outputs": [
    {
     "data": {
      "text/plain": [
       "635.0"
      ]
     },
     "execution_count": 74,
     "metadata": {},
     "output_type": "execute_result"
    }
   ],
   "source": [
    "np.median(vals)"
   ]
  },
  {
   "cell_type": "code",
   "execution_count": 75,
   "metadata": {},
   "outputs": [
    {
     "data": {
      "text/plain": [
       "6533.545454545455"
      ]
     },
     "execution_count": 75,
     "metadata": {},
     "output_type": "execute_result"
    }
   ],
   "source": [
    "np.mean(vals)"
   ]
  },
  {
   "cell_type": "code",
   "execution_count": 76,
   "metadata": {},
   "outputs": [],
   "source": [
    "?np.percentile()"
   ]
  },
  {
   "cell_type": "code",
   "execution_count": 77,
   "metadata": {},
   "outputs": [
    {
     "data": {
      "text/plain": [
       "635.0"
      ]
     },
     "execution_count": 77,
     "metadata": {},
     "output_type": "execute_result"
    }
   ],
   "source": [
    "np.percentile(vals,50)"
   ]
  },
  {
   "cell_type": "code",
   "execution_count": 78,
   "metadata": {},
   "outputs": [
    {
     "data": {
      "text/plain": [
       "460.5"
      ]
     },
     "execution_count": 78,
     "metadata": {},
     "output_type": "execute_result"
    }
   ],
   "source": [
    "np.percentile(vals,25)"
   ]
  },
  {
   "cell_type": "code",
   "execution_count": 79,
   "metadata": {
    "scrolled": true
   },
   "outputs": [
    {
     "data": {
      "text/plain": [
       "5020.0"
      ]
     },
     "execution_count": 79,
     "metadata": {},
     "output_type": "execute_result"
    }
   ],
   "source": [
    "np.percentile(vals,75)"
   ]
  },
  {
   "cell_type": "code",
   "execution_count": 80,
   "metadata": {},
   "outputs": [
    {
     "data": {
      "text/plain": [
       "11"
      ]
     },
     "execution_count": 80,
     "metadata": {},
     "output_type": "execute_result"
    }
   ],
   "source": [
    "len(vals)"
   ]
  },
  {
   "cell_type": "code",
   "execution_count": 81,
   "metadata": {},
   "outputs": [
    {
     "data": {
      "text/plain": [
       "5684"
      ]
     },
     "execution_count": 81,
     "metadata": {},
     "output_type": "execute_result"
    }
   ],
   "source": [
    "vals[2]"
   ]
  },
  {
   "cell_type": "code",
   "execution_count": 82,
   "metadata": {},
   "outputs": [
    {
     "data": {
      "text/plain": [
       "456"
      ]
     },
     "execution_count": 82,
     "metadata": {},
     "output_type": "execute_result"
    }
   ],
   "source": [
    "sorted(vals)[2]"
   ]
  },
  {
   "cell_type": "code",
   "execution_count": 83,
   "metadata": {},
   "outputs": [
    {
     "data": {
      "text/plain": [
       "5684"
      ]
     },
     "execution_count": 83,
     "metadata": {},
     "output_type": "execute_result"
    }
   ],
   "source": [
    "sorted(vals)[8]"
   ]
  },
  {
   "cell_type": "code",
   "execution_count": 84,
   "metadata": {},
   "outputs": [
    {
     "data": {
      "text/plain": [
       "460.5"
      ]
     },
     "execution_count": 84,
     "metadata": {},
     "output_type": "execute_result"
    }
   ],
   "source": [
    "np.percentile(vals,25, interpolation='midpoint')"
   ]
  },
  {
   "cell_type": "code",
   "execution_count": 85,
   "metadata": {},
   "outputs": [
    {
     "data": {
      "text/plain": [
       "[56, 65, 456, 465, 564, 635, 645, 4356, 5684, 6475, 52468]"
      ]
     },
     "execution_count": 85,
     "metadata": {},
     "output_type": "execute_result"
    }
   ],
   "source": [
    "sorted(vals)"
   ]
  },
  {
   "cell_type": "code",
   "execution_count": 86,
   "metadata": {},
   "outputs": [
    {
     "data": {
      "text/plain": [
       "456"
      ]
     },
     "execution_count": 86,
     "metadata": {},
     "output_type": "execute_result"
    }
   ],
   "source": [
    "np.percentile(vals,25, interpolation='nearest')"
   ]
  },
  {
   "cell_type": "code",
   "execution_count": 87,
   "metadata": {},
   "outputs": [],
   "source": [
    "def hello(x,y = 'sisodia'):\n",
    "    print(x,y)"
   ]
  },
  {
   "cell_type": "code",
   "execution_count": 88,
   "metadata": {},
   "outputs": [
    {
     "name": "stdout",
     "output_type": "stream",
     "text": [
      "Vinay is good\n"
     ]
    }
   ],
   "source": [
    "hello('Vinay','is good')"
   ]
  },
  {
   "cell_type": "code",
   "execution_count": 89,
   "metadata": {},
   "outputs": [],
   "source": [
    "Q1=np.percentile(vals,25, interpolation='midpoint')\n",
    "Q2=np.percentile(vals,50, interpolation='midpoint')\n",
    "Q3=np.percentile(vals,75, interpolation='midpoint')\n",
    "\n",
    "IQR = Q3-Q1\n",
    "lo_li = Q1 - 1.5*IQR\n",
    "up_li = Q3 + 1.5*IQR"
   ]
  },
  {
   "cell_type": "code",
   "execution_count": 90,
   "metadata": {},
   "outputs": [
    {
     "name": "stdout",
     "output_type": "stream",
     "text": [
      "-6378.75 11859.25\n"
     ]
    }
   ],
   "source": [
    "print(lo_li,up_li)"
   ]
  },
  {
   "cell_type": "code",
   "execution_count": 91,
   "metadata": {},
   "outputs": [
    {
     "name": "stdout",
     "output_type": "stream",
     "text": [
      "52468\n"
     ]
    }
   ],
   "source": [
    "for i in vals:\n",
    "    if i < lo_li or i > up_li:\n",
    "        print(i)\n",
    "        \n",
    "            \n",
    "            "
   ]
  },
  {
   "cell_type": "code",
   "execution_count": 92,
   "metadata": {},
   "outputs": [],
   "source": [
    "import matplotlib.pyplot as plt"
   ]
  },
  {
   "cell_type": "code",
   "execution_count": 93,
   "metadata": {},
   "outputs": [
    {
     "data": {
      "text/plain": [
       "{'boxes': [<matplotlib.lines.Line2D at 0x87ad6d0>],\n",
       " 'caps': [<matplotlib.lines.Line2D at 0x87adef0>,\n",
       "  <matplotlib.lines.Line2D at 0x87adff0>],\n",
       " 'fliers': [<matplotlib.lines.Line2D at 0x87b4710>],\n",
       " 'means': [],\n",
       " 'medians': [<matplotlib.lines.Line2D at 0x87b44b0>],\n",
       " 'whiskers': [<matplotlib.lines.Line2D at 0x87ad9b0>,\n",
       "  <matplotlib.lines.Line2D at 0x87adc50>]}"
      ]
     },
     "execution_count": 93,
     "metadata": {},
     "output_type": "execute_result"
    },
    {
     "data": {
      "image/png": "[encoded data removed]",
      "text/plain": [
       "<matplotlib.figure.Figure at 0x87819b0>"
      ]
     },
     "metadata": {},
     "output_type": "display_data"
    }
   ],
   "source": [
    "plt.boxplot(vals)"
   ]
  },
  {
   "cell_type": "code",
   "execution_count": 94,
   "metadata": {},
   "outputs": [],
   "source": [
    "%matplotlib inline"
   ]
  },
  {
   "cell_type": "code",
   "execution_count": 95,
   "metadata": {},
   "outputs": [
    {
     "data": {
      "text/plain": [
       "{'boxes': [<matplotlib.lines.Line2D at 0x87e0d90>],\n",
       " 'caps': [<matplotlib.lines.Line2D at 0x87ec5d0>,\n",
       "  <matplotlib.lines.Line2D at 0x87ec870>],\n",
       " 'fliers': [<matplotlib.lines.Line2D at 0x87ecdd0>],\n",
       " 'means': [],\n",
       " 'medians': [<matplotlib.lines.Line2D at 0x87ecb70>],\n",
       " 'whiskers': [<matplotlib.lines.Line2D at 0x87e0e70>,\n",
       "  <matplotlib.lines.Line2D at 0x87ec330>]}"
      ]
     },
     "execution_count": 95,
     "metadata": {},
     "output_type": "execute_result"
    },
    {
     "data": {
      "image/png": "[encoded data removed]",
      "text/plain": [
       "<matplotlib.figure.Figure at 0x8781a10>"
      ]
     },
     "metadata": {},
     "output_type": "display_data"
    }
   ],
   "source": [
    "plt.boxplot(vals)"
   ]
  },
  {
   "cell_type": "code",
   "execution_count": 96,
   "metadata": {},
   "outputs": [
    {
     "data": {
      "text/plain": [
       "460.5"
      ]
     },
     "execution_count": 96,
     "metadata": {},
     "output_type": "execute_result"
    }
   ],
   "source": [
    "Q1"
   ]
  },
  {
   "cell_type": "code",
   "execution_count": 97,
   "metadata": {},
   "outputs": [
    {
     "data": {
      "text/plain": [
       "635.0"
      ]
     },
     "execution_count": 97,
     "metadata": {},
     "output_type": "execute_result"
    }
   ],
   "source": [
    "Q2"
   ]
  },
  {
   "cell_type": "code",
   "execution_count": 98,
   "metadata": {},
   "outputs": [
    {
     "data": {
      "text/plain": [
       "5020.0"
      ]
     },
     "execution_count": 98,
     "metadata": {},
     "output_type": "execute_result"
    }
   ],
   "source": [
    "Q3"
   ]
  },
  {
   "cell_type": "code",
   "execution_count": 99,
   "metadata": {},
   "outputs": [
    {
     "name": "stdout",
     "output_type": "stream",
     "text": [
      "11859.25 -6378.75\n"
     ]
    }
   ],
   "source": [
    "print(up_li,lo_li)"
   ]
  },
  {
   "cell_type": "code",
   "execution_count": 100,
   "metadata": {},
   "outputs": [],
   "source": [
    "?plt.boxplot"
   ]
  },
  {
   "cell_type": "code",
   "execution_count": 102,
   "metadata": {},
   "outputs": [
    {
     "data": {
      "image/png": "[encoded data removed]",
      "text/plain": [
       "<matplotlib.figure.Figure at 0x880f250>"
      ]
     },
     "metadata": {},
     "output_type": "display_data"
    }
   ],
   "source": [
    "_ = plt.boxplot(vals, vert=False)"
   ]
  },
  {
   "cell_type": "code",
   "execution_count": 106,
   "metadata": {},
   "outputs": [
    {
     "data": {
      "image/png": "[encoded data removed]",
      "text/plain": [
       "<matplotlib.figure.Figure at 0x88aac90>"
      ]
     },
     "metadata": {},
     "output_type": "display_data"
    }
   ],
   "source": [
    "plt.figure(figsize=(20,8))\n",
    "plt.gca().grid(True)\n",
    "_ = plt.boxplot(vals, vert=False)"
   ]
  },
  {
   "cell_type": "code",
   "execution_count": 107,
   "metadata": {},
   "outputs": [],
   "source": [
    "?plt.boxplot"
   ]
  },
  {
   "cell_type": "code",
   "execution_count": 109,
   "metadata": {},
   "outputs": [
    {
     "data": {
      "text/plain": [
       "{'boxes': [<matplotlib.lines.Line2D at 0x8dc9470>],\n",
       " 'caps': [<matplotlib.lines.Line2D at 0x8dc9c30>,\n",
       "  <matplotlib.lines.Line2D at 0x8dc9ed0>],\n",
       " 'fliers': [<matplotlib.lines.Line2D at 0x8dd2450>],\n",
       " 'means': [],\n",
       " 'medians': [<matplotlib.lines.Line2D at 0x8dc9ff0>],\n",
       " 'whiskers': [<matplotlib.lines.Line2D at 0x8dc96f0>,\n",
       "  <matplotlib.lines.Line2D at 0x8dc9990>]}"
      ]
     },
     "execution_count": 109,
     "metadata": {},
     "output_type": "execute_result"
    },
    {
     "data": {
      "image/png": "[encoded data removed]",
      "text/plain": [
       "<matplotlib.figure.Figure at 0x89ae310>"
      ]
     },
     "metadata": {},
     "output_type": "display_data"
    }
   ],
   "source": [
    "plt.figure(figsize=(20,8))\n",
    "plt.boxplot(vals, whis='range',vert=False)"
   ]
  },
  {
   "cell_type": "markdown",
   "metadata": {},
   "source": [
    "whis Range set the whiskers to the maximum and minimum of data"
   ]
  },
  {
   "cell_type": "code",
   "execution_count": 110,
   "metadata": {},
   "outputs": [],
   "source": [
    "vals = vals+[465,468,455,824,846,645,631,682,768,612]"
   ]
  },
  {
   "cell_type": "code",
   "execution_count": 111,
   "metadata": {},
   "outputs": [],
   "source": [
    "?plt.hist"
   ]
  },
  {
   "cell_type": "code",
   "execution_count": 112,
   "metadata": {},
   "outputs": [
    {
     "data": {
      "text/plain": [
       "(array([ 18.,   2.,   0.,   0.,   0.,   0.,   0.,   0.,   0.,   1.]),\n",
       " array([    56. ,   5297.2,  10538.4,  15779.6,  21020.8,  26262. ,\n",
       "         31503.2,  36744.4,  41985.6,  47226.8,  52468. ]),\n",
       " <a list of 10 Patch objects>)"
      ]
     },
     "execution_count": 112,
     "metadata": {},
     "output_type": "execute_result"
    },
    {
     "data": {
      "image/png": "[encoded data removed]",
      "text/plain": [
       "<matplotlib.figure.Figure at 0x889f770>"
      ]
     },
     "metadata": {},
     "output_type": "display_data"
    }
   ],
   "source": [
    "plt.hist(vals)"
   ]
  },
  {
   "cell_type": "code",
   "execution_count": 113,
   "metadata": {},
   "outputs": [],
   "source": [
    "import matplotlib as mpl"
   ]
  },
  {
   "cell_type": "code",
   "execution_count": 114,
   "metadata": {},
   "outputs": [
    {
     "name": "stdout",
     "output_type": "stream",
     "text": [
      "10\n"
     ]
    }
   ],
   "source": [
    "print(mpl.rcParams[\"hist.bins\"])"
   ]
  },
  {
   "cell_type": "code",
   "execution_count": 117,
   "metadata": {},
   "outputs": [
    {
     "data": {
      "text/plain": [
       "(array([ 17.,   0.,   0.,   0.,   1.,   1.,   1.,   0.,   0.,   0.,   0.,\n",
       "          0.,   0.,   0.,   0.,   0.,   0.,   0.,   0.,   0.,   0.,   0.,\n",
       "          0.,   0.,   0.,   0.,   0.,   0.,   0.,   0.,   0.,   0.,   0.,\n",
       "          0.,   0.,   0.,   0.,   0.,   0.,   0.,   0.,   0.,   0.,   0.,\n",
       "          0.,   0.,   0.,   0.,   0.,   1.]),\n",
       " array([    56.  ,   1104.24,   2152.48,   3200.72,   4248.96,   5297.2 ,\n",
       "          6345.44,   7393.68,   8441.92,   9490.16,  10538.4 ,  11586.64,\n",
       "         12634.88,  13683.12,  14731.36,  15779.6 ,  16827.84,  17876.08,\n",
       "         18924.32,  19972.56,  21020.8 ,  22069.04,  23117.28,  24165.52,\n",
       "         25213.76,  26262.  ,  27310.24,  28358.48,  29406.72,  30454.96,\n",
       "         31503.2 ,  32551.44,  33599.68,  34647.92,  35696.16,  36744.4 ,\n",
       "         37792.64,  38840.88,  39889.12,  40937.36,  41985.6 ,  43033.84,\n",
       "         44082.08,  45130.32,  46178.56,  47226.8 ,  48275.04,  49323.28,\n",
       "         50371.52,  51419.76,  52468.  ]),\n",
       " <a list of 50 Patch objects>)"
      ]
     },
     "execution_count": 117,
     "metadata": {},
     "output_type": "execute_result"
    },
    {
     "data": {
      "image/png": "[encoded data removed]",
      "text/plain": [
       "<matplotlib.figure.Figure at 0x1e82f610>"
      ]
     },
     "metadata": {},
     "output_type": "display_data"
    }
   ],
   "source": [
    "plt.hist(vals,bins=50)"
   ]
  },
  {
   "cell_type": "code",
   "execution_count": 121,
   "metadata": {},
   "outputs": [],
   "source": [
    "eq = pd.read_csv(\"python-quake-da-master\\python-quake-da-master\\data\\quakes.csv\")"
   ]
  },
  {
   "cell_type": "code",
   "execution_count": 122,
   "metadata": {},
   "outputs": [
    {
     "data": {
      "text/html": [
       "<div>\n",
       "<style>\n",
       "    .dataframe thead tr:only-child th {\n",
       "        text-align: right;\n",
       "    }\n",
       "\n",
       "    .dataframe thead th {\n",
       "        text-align: left;\n",
       "    }\n",
       "\n",
       "    .dataframe tbody tr th {\n",
       "        vertical-align: top;\n",
       "    }\n",
       "</style>\n",
       "<table border=\"1\" class=\"dataframe\">\n",
       "  <thead>\n",
       "    <tr style=\"text-align: right;\">\n",
       "      <th></th>\n",
       "      <th>no</th>\n",
       "      <th>date_time</th>\n",
       "      <th>longitude</th>\n",
       "      <th>latitude</th>\n",
       "      <th>magnitude</th>\n",
       "      <th>depth</th>\n",
       "    </tr>\n",
       "  </thead>\n",
       "  <tbody>\n",
       "    <tr>\n",
       "      <th>0</th>\n",
       "      <td>1</td>\n",
       "      <td>1991 12 31 04 47 35</td>\n",
       "      <td>121.76</td>\n",
       "      <td>24.12</td>\n",
       "      <td>4.85</td>\n",
       "      <td>27.84</td>\n",
       "    </tr>\n",
       "    <tr>\n",
       "      <th>1</th>\n",
       "      <td>2</td>\n",
       "      <td>1991 12 30 02 57 01</td>\n",
       "      <td>121.73</td>\n",
       "      <td>23.22</td>\n",
       "      <td>4.10</td>\n",
       "      <td>15.22</td>\n",
       "    </tr>\n",
       "    <tr>\n",
       "      <th>2</th>\n",
       "      <td>3</td>\n",
       "      <td>1991 12 28 21 43 04</td>\n",
       "      <td>121.75</td>\n",
       "      <td>23.79</td>\n",
       "      <td>4.15</td>\n",
       "      <td>1.06</td>\n",
       "    </tr>\n",
       "    <tr>\n",
       "      <th>3</th>\n",
       "      <td>4</td>\n",
       "      <td>1991 12 28 21 36 40</td>\n",
       "      <td>121.72</td>\n",
       "      <td>23.81</td>\n",
       "      <td>4.24</td>\n",
       "      <td>1.09</td>\n",
       "    </tr>\n",
       "    <tr>\n",
       "      <th>4</th>\n",
       "      <td>5</td>\n",
       "      <td>1991 12 28 21 34 04</td>\n",
       "      <td>121.73</td>\n",
       "      <td>23.81</td>\n",
       "      <td>4.76</td>\n",
       "      <td>2.25</td>\n",
       "    </tr>\n",
       "    <tr>\n",
       "      <th>5</th>\n",
       "      <td>6</td>\n",
       "      <td>1991 12 28 12 20 51</td>\n",
       "      <td>121.96</td>\n",
       "      <td>24.37</td>\n",
       "      <td>4.26</td>\n",
       "      <td>12.17</td>\n",
       "    </tr>\n",
       "    <tr>\n",
       "      <th>6</th>\n",
       "      <td>7</td>\n",
       "      <td>1991 12 27 13 34 28</td>\n",
       "      <td>122.33</td>\n",
       "      <td>24.44</td>\n",
       "      <td>4.89</td>\n",
       "      <td>73.42</td>\n",
       "    </tr>\n",
       "    <tr>\n",
       "      <th>7</th>\n",
       "      <td>8</td>\n",
       "      <td>1991 12 24 02 51 43</td>\n",
       "      <td>120.73</td>\n",
       "      <td>23.18</td>\n",
       "      <td>4.92</td>\n",
       "      <td>7.60</td>\n",
       "    </tr>\n",
       "    <tr>\n",
       "      <th>8</th>\n",
       "      <td>9</td>\n",
       "      <td>1991 12 21 22 09 22</td>\n",
       "      <td>121.57</td>\n",
       "      <td>23.87</td>\n",
       "      <td>4.60</td>\n",
       "      <td>20.32</td>\n",
       "    </tr>\n",
       "    <tr>\n",
       "      <th>9</th>\n",
       "      <td>10</td>\n",
       "      <td>1991 12 21 20 41 01</td>\n",
       "      <td>121.86</td>\n",
       "      <td>23.98</td>\n",
       "      <td>4.21</td>\n",
       "      <td>23.75</td>\n",
       "    </tr>\n",
       "    <tr>\n",
       "      <th>10</th>\n",
       "      <td>11</td>\n",
       "      <td>1991 12 21 04 08 17</td>\n",
       "      <td>122.98</td>\n",
       "      <td>24.97</td>\n",
       "      <td>4.04</td>\n",
       "      <td>32.42</td>\n",
       "    </tr>\n",
       "    <tr>\n",
       "      <th>11</th>\n",
       "      <td>12</td>\n",
       "      <td>1991 12 18 09 06 48</td>\n",
       "      <td>122.86</td>\n",
       "      <td>24.83</td>\n",
       "      <td>4.03</td>\n",
       "      <td>157.20</td>\n",
       "    </tr>\n",
       "    <tr>\n",
       "      <th>12</th>\n",
       "      <td>13</td>\n",
       "      <td>1991 12 17 01 33 37</td>\n",
       "      <td>122.22</td>\n",
       "      <td>24.17</td>\n",
       "      <td>4.55</td>\n",
       "      <td>13.76</td>\n",
       "    </tr>\n",
       "    <tr>\n",
       "      <th>13</th>\n",
       "      <td>14</td>\n",
       "      <td>1991 12 16 18 12 57</td>\n",
       "      <td>121.73</td>\n",
       "      <td>22.04</td>\n",
       "      <td>4.08</td>\n",
       "      <td>122.31</td>\n",
       "    </tr>\n",
       "    <tr>\n",
       "      <th>14</th>\n",
       "      <td>15</td>\n",
       "      <td>1991 12 15 04 03 04</td>\n",
       "      <td>122.81</td>\n",
       "      <td>24.11</td>\n",
       "      <td>5.13</td>\n",
       "      <td>31.34</td>\n",
       "    </tr>\n",
       "    <tr>\n",
       "      <th>15</th>\n",
       "      <td>16</td>\n",
       "      <td>1991 12 14 14 12 03</td>\n",
       "      <td>122.81</td>\n",
       "      <td>23.88</td>\n",
       "      <td>4.20</td>\n",
       "      <td>16.82</td>\n",
       "    </tr>\n",
       "    <tr>\n",
       "      <th>16</th>\n",
       "      <td>17</td>\n",
       "      <td>1991 12 10 08 12 28</td>\n",
       "      <td>122.39</td>\n",
       "      <td>23.90</td>\n",
       "      <td>4.26</td>\n",
       "      <td>5.78</td>\n",
       "    </tr>\n",
       "    <tr>\n",
       "      <th>17</th>\n",
       "      <td>18</td>\n",
       "      <td>1991 12 10 07 51 15</td>\n",
       "      <td>122.32</td>\n",
       "      <td>23.96</td>\n",
       "      <td>4.37</td>\n",
       "      <td>14.22</td>\n",
       "    </tr>\n",
       "    <tr>\n",
       "      <th>18</th>\n",
       "      <td>19</td>\n",
       "      <td>1991 12 10 07 43 23</td>\n",
       "      <td>122.35</td>\n",
       "      <td>23.92</td>\n",
       "      <td>4.84</td>\n",
       "      <td>14.98</td>\n",
       "    </tr>\n",
       "    <tr>\n",
       "      <th>19</th>\n",
       "      <td>20</td>\n",
       "      <td>1991 12 10 07 30 16</td>\n",
       "      <td>122.44</td>\n",
       "      <td>23.91</td>\n",
       "      <td>5.04</td>\n",
       "      <td>6.12</td>\n",
       "    </tr>\n",
       "    <tr>\n",
       "      <th>20</th>\n",
       "      <td>21</td>\n",
       "      <td>1991 12 09 14 35 25</td>\n",
       "      <td>122.52</td>\n",
       "      <td>23.69</td>\n",
       "      <td>4.47</td>\n",
       "      <td>0.20</td>\n",
       "    </tr>\n",
       "    <tr>\n",
       "      <th>21</th>\n",
       "      <td>22</td>\n",
       "      <td>1991 12 08 22 23 32</td>\n",
       "      <td>122.50</td>\n",
       "      <td>23.91</td>\n",
       "      <td>5.14</td>\n",
       "      <td>16.97</td>\n",
       "    </tr>\n",
       "    <tr>\n",
       "      <th>22</th>\n",
       "      <td>23</td>\n",
       "      <td>1991 12 06 12 31 41</td>\n",
       "      <td>122.77</td>\n",
       "      <td>23.96</td>\n",
       "      <td>4.25</td>\n",
       "      <td>3.40</td>\n",
       "    </tr>\n",
       "    <tr>\n",
       "      <th>23</th>\n",
       "      <td>24</td>\n",
       "      <td>1991 12 06 07 29 01</td>\n",
       "      <td>122.07</td>\n",
       "      <td>24.93</td>\n",
       "      <td>4.09</td>\n",
       "      <td>104.28</td>\n",
       "    </tr>\n",
       "    <tr>\n",
       "      <th>24</th>\n",
       "      <td>25</td>\n",
       "      <td>1991 12 05 15 48 23</td>\n",
       "      <td>121.40</td>\n",
       "      <td>22.68</td>\n",
       "      <td>5.24</td>\n",
       "      <td>22.47</td>\n",
       "    </tr>\n",
       "    <tr>\n",
       "      <th>25</th>\n",
       "      <td>26</td>\n",
       "      <td>1991 12 05 12 30 40</td>\n",
       "      <td>119.94</td>\n",
       "      <td>21.29</td>\n",
       "      <td>4.01</td>\n",
       "      <td>70.67</td>\n",
       "    </tr>\n",
       "    <tr>\n",
       "      <th>26</th>\n",
       "      <td>27</td>\n",
       "      <td>1991 12 02 16 40 55</td>\n",
       "      <td>122.77</td>\n",
       "      <td>24.40</td>\n",
       "      <td>4.13</td>\n",
       "      <td>29.08</td>\n",
       "    </tr>\n",
       "    <tr>\n",
       "      <th>27</th>\n",
       "      <td>28</td>\n",
       "      <td>1991 12 02 06 14 15</td>\n",
       "      <td>121.70</td>\n",
       "      <td>23.18</td>\n",
       "      <td>5.48</td>\n",
       "      <td>35.03</td>\n",
       "    </tr>\n",
       "    <tr>\n",
       "      <th>28</th>\n",
       "      <td>29</td>\n",
       "      <td>1991 11 29 09 01 39</td>\n",
       "      <td>120.09</td>\n",
       "      <td>22.31</td>\n",
       "      <td>4.18</td>\n",
       "      <td>43.09</td>\n",
       "    </tr>\n",
       "    <tr>\n",
       "      <th>29</th>\n",
       "      <td>30</td>\n",
       "      <td>1991 11 25 10 29 11</td>\n",
       "      <td>121.68</td>\n",
       "      <td>23.16</td>\n",
       "      <td>5.00</td>\n",
       "      <td>33.62</td>\n",
       "    </tr>\n",
       "    <tr>\n",
       "      <th>...</th>\n",
       "      <td>...</td>\n",
       "      <td>...</td>\n",
       "      <td>...</td>\n",
       "      <td>...</td>\n",
       "      <td>...</td>\n",
       "      <td>...</td>\n",
       "    </tr>\n",
       "    <tr>\n",
       "      <th>6533</th>\n",
       "      <td>370</td>\n",
       "      <td>2006 02 26 15 52 55</td>\n",
       "      <td>121.36</td>\n",
       "      <td>22.62</td>\n",
       "      <td>4.48</td>\n",
       "      <td>25.22</td>\n",
       "    </tr>\n",
       "    <tr>\n",
       "      <th>6534</th>\n",
       "      <td>371</td>\n",
       "      <td>2006 02 25 00 38 51</td>\n",
       "      <td>121.93</td>\n",
       "      <td>24.42</td>\n",
       "      <td>4.12</td>\n",
       "      <td>28.13</td>\n",
       "    </tr>\n",
       "    <tr>\n",
       "      <th>6535</th>\n",
       "      <td>372</td>\n",
       "      <td>2006 02 24 21 39 37</td>\n",
       "      <td>121.94</td>\n",
       "      <td>24.42</td>\n",
       "      <td>4.32</td>\n",
       "      <td>28.38</td>\n",
       "    </tr>\n",
       "    <tr>\n",
       "      <th>6536</th>\n",
       "      <td>373</td>\n",
       "      <td>2006 02 24 21 16 34</td>\n",
       "      <td>122.33</td>\n",
       "      <td>25.30</td>\n",
       "      <td>4.16</td>\n",
       "      <td>241.09</td>\n",
       "    </tr>\n",
       "    <tr>\n",
       "      <th>6537</th>\n",
       "      <td>374</td>\n",
       "      <td>2006 02 24 17 02 50</td>\n",
       "      <td>121.69</td>\n",
       "      <td>24.02</td>\n",
       "      <td>4.07</td>\n",
       "      <td>28.31</td>\n",
       "    </tr>\n",
       "    <tr>\n",
       "      <th>6538</th>\n",
       "      <td>375</td>\n",
       "      <td>2006 02 24 01 55 50</td>\n",
       "      <td>122.23</td>\n",
       "      <td>24.78</td>\n",
       "      <td>5.17</td>\n",
       "      <td>12.56</td>\n",
       "    </tr>\n",
       "    <tr>\n",
       "      <th>6539</th>\n",
       "      <td>376</td>\n",
       "      <td>2006 02 23 20 19 05</td>\n",
       "      <td>121.00</td>\n",
       "      <td>24.04</td>\n",
       "      <td>4.55</td>\n",
       "      <td>24.98</td>\n",
       "    </tr>\n",
       "    <tr>\n",
       "      <th>6540</th>\n",
       "      <td>377</td>\n",
       "      <td>2006 02 21 13 45 41</td>\n",
       "      <td>121.53</td>\n",
       "      <td>21.97</td>\n",
       "      <td>4.34</td>\n",
       "      <td>93.04</td>\n",
       "    </tr>\n",
       "    <tr>\n",
       "      <th>6541</th>\n",
       "      <td>378</td>\n",
       "      <td>2006 02 18 14 22 14</td>\n",
       "      <td>121.45</td>\n",
       "      <td>23.92</td>\n",
       "      <td>4.31</td>\n",
       "      <td>21.88</td>\n",
       "    </tr>\n",
       "    <tr>\n",
       "      <th>6542</th>\n",
       "      <td>379</td>\n",
       "      <td>2006 02 07 15 41 55</td>\n",
       "      <td>121.78</td>\n",
       "      <td>24.81</td>\n",
       "      <td>4.78</td>\n",
       "      <td>89.48</td>\n",
       "    </tr>\n",
       "    <tr>\n",
       "      <th>6543</th>\n",
       "      <td>380</td>\n",
       "      <td>2006 02 07 03 56 49</td>\n",
       "      <td>121.83</td>\n",
       "      <td>22.06</td>\n",
       "      <td>4.50</td>\n",
       "      <td>146.71</td>\n",
       "    </tr>\n",
       "    <tr>\n",
       "      <th>6544</th>\n",
       "      <td>381</td>\n",
       "      <td>2006 01 30 05 49 56</td>\n",
       "      <td>121.83</td>\n",
       "      <td>24.29</td>\n",
       "      <td>4.09</td>\n",
       "      <td>11.52</td>\n",
       "    </tr>\n",
       "    <tr>\n",
       "      <th>6545</th>\n",
       "      <td>382</td>\n",
       "      <td>2006 01 30 01 42 41</td>\n",
       "      <td>121.65</td>\n",
       "      <td>24.14</td>\n",
       "      <td>4.20</td>\n",
       "      <td>35.01</td>\n",
       "    </tr>\n",
       "    <tr>\n",
       "      <th>6546</th>\n",
       "      <td>383</td>\n",
       "      <td>2006 01 28 14 02 54</td>\n",
       "      <td>121.30</td>\n",
       "      <td>22.59</td>\n",
       "      <td>4.35</td>\n",
       "      <td>38.38</td>\n",
       "    </tr>\n",
       "    <tr>\n",
       "      <th>6547</th>\n",
       "      <td>384</td>\n",
       "      <td>2006 01 26 21 43 49</td>\n",
       "      <td>120.03</td>\n",
       "      <td>21.39</td>\n",
       "      <td>4.10</td>\n",
       "      <td>70.10</td>\n",
       "    </tr>\n",
       "    <tr>\n",
       "      <th>6548</th>\n",
       "      <td>385</td>\n",
       "      <td>2006 01 26 21 19 27</td>\n",
       "      <td>120.09</td>\n",
       "      <td>21.40</td>\n",
       "      <td>4.28</td>\n",
       "      <td>73.76</td>\n",
       "    </tr>\n",
       "    <tr>\n",
       "      <th>6549</th>\n",
       "      <td>386</td>\n",
       "      <td>2006 01 26 15 10 59</td>\n",
       "      <td>122.29</td>\n",
       "      <td>25.32</td>\n",
       "      <td>5.35</td>\n",
       "      <td>255.60</td>\n",
       "    </tr>\n",
       "    <tr>\n",
       "      <th>6550</th>\n",
       "      <td>387</td>\n",
       "      <td>2006 01 23 04 20 03</td>\n",
       "      <td>122.30</td>\n",
       "      <td>24.02</td>\n",
       "      <td>4.74</td>\n",
       "      <td>18.88</td>\n",
       "    </tr>\n",
       "    <tr>\n",
       "      <th>6551</th>\n",
       "      <td>388</td>\n",
       "      <td>2006 01 23 04 18 57</td>\n",
       "      <td>122.29</td>\n",
       "      <td>24.01</td>\n",
       "      <td>4.86</td>\n",
       "      <td>17.62</td>\n",
       "    </tr>\n",
       "    <tr>\n",
       "      <th>6552</th>\n",
       "      <td>389</td>\n",
       "      <td>2006 01 22 07 07 37</td>\n",
       "      <td>122.32</td>\n",
       "      <td>23.96</td>\n",
       "      <td>4.94</td>\n",
       "      <td>5.83</td>\n",
       "    </tr>\n",
       "    <tr>\n",
       "      <th>6553</th>\n",
       "      <td>390</td>\n",
       "      <td>2006 01 22 03 05 29</td>\n",
       "      <td>122.70</td>\n",
       "      <td>23.97</td>\n",
       "      <td>4.05</td>\n",
       "      <td>42.66</td>\n",
       "    </tr>\n",
       "    <tr>\n",
       "      <th>6554</th>\n",
       "      <td>391</td>\n",
       "      <td>2006 01 19 20 44 51</td>\n",
       "      <td>122.35</td>\n",
       "      <td>24.52</td>\n",
       "      <td>4.40</td>\n",
       "      <td>67.04</td>\n",
       "    </tr>\n",
       "    <tr>\n",
       "      <th>6555</th>\n",
       "      <td>392</td>\n",
       "      <td>2006 01 15 12 18 43</td>\n",
       "      <td>122.36</td>\n",
       "      <td>24.74</td>\n",
       "      <td>4.49</td>\n",
       "      <td>102.28</td>\n",
       "    </tr>\n",
       "    <tr>\n",
       "      <th>6556</th>\n",
       "      <td>393</td>\n",
       "      <td>2006 01 13 16 59 58</td>\n",
       "      <td>122.85</td>\n",
       "      <td>23.78</td>\n",
       "      <td>4.48</td>\n",
       "      <td>44.21</td>\n",
       "    </tr>\n",
       "    <tr>\n",
       "      <th>6557</th>\n",
       "      <td>394</td>\n",
       "      <td>2006 01 11 12 06 16</td>\n",
       "      <td>121.31</td>\n",
       "      <td>22.40</td>\n",
       "      <td>4.26</td>\n",
       "      <td>5.12</td>\n",
       "    </tr>\n",
       "    <tr>\n",
       "      <th>6558</th>\n",
       "      <td>395</td>\n",
       "      <td>2006 01 09 10 39 55</td>\n",
       "      <td>121.75</td>\n",
       "      <td>24.59</td>\n",
       "      <td>4.18</td>\n",
       "      <td>67.98</td>\n",
       "    </tr>\n",
       "    <tr>\n",
       "      <th>6559</th>\n",
       "      <td>396</td>\n",
       "      <td>2006 01 08 17 01 38</td>\n",
       "      <td>121.40</td>\n",
       "      <td>23.21</td>\n",
       "      <td>5.10</td>\n",
       "      <td>21.65</td>\n",
       "    </tr>\n",
       "    <tr>\n",
       "      <th>6560</th>\n",
       "      <td>397</td>\n",
       "      <td>2006 01 07 11 52 41</td>\n",
       "      <td>121.99</td>\n",
       "      <td>24.62</td>\n",
       "      <td>4.45</td>\n",
       "      <td>64.87</td>\n",
       "    </tr>\n",
       "    <tr>\n",
       "      <th>6561</th>\n",
       "      <td>398</td>\n",
       "      <td>2006 01 05 08 05 56</td>\n",
       "      <td>121.72</td>\n",
       "      <td>22.57</td>\n",
       "      <td>4.24</td>\n",
       "      <td>15.56</td>\n",
       "    </tr>\n",
       "    <tr>\n",
       "      <th>6562</th>\n",
       "      <td>399</td>\n",
       "      <td>2006 01 02 03 34 28</td>\n",
       "      <td>122.26</td>\n",
       "      <td>24.72</td>\n",
       "      <td>4.18</td>\n",
       "      <td>5.28</td>\n",
       "    </tr>\n",
       "  </tbody>\n",
       "</table>\n",
       "<p>6563 rows × 6 columns</p>\n",
       "</div>"
      ],
      "text/plain": [
       "       no            date_time  longitude  latitude  magnitude   depth\n",
       "0       1  1991 12 31 04 47 35     121.76     24.12       4.85   27.84\n",
       "1       2  1991 12 30 02 57 01     121.73     23.22       4.10   15.22\n",
       "2       3  1991 12 28 21 43 04     121.75     23.79       4.15    1.06\n",
       "3       4  1991 12 28 21 36 40     121.72     23.81       4.24    1.09\n",
       "4       5  1991 12 28 21 34 04     121.73     23.81       4.76    2.25\n",
       "5       6  1991 12 28 12 20 51     121.96     24.37       4.26   12.17\n",
       "6       7  1991 12 27 13 34 28     122.33     24.44       4.89   73.42\n",
       "7       8  1991 12 24 02 51 43     120.73     23.18       4.92    7.60\n",
       "8       9  1991 12 21 22 09 22     121.57     23.87       4.60   20.32\n",
       "9      10  1991 12 21 20 41 01     121.86     23.98       4.21   23.75\n",
       "10     11  1991 12 21 04 08 17     122.98     24.97       4.04   32.42\n",
       "11     12  1991 12 18 09 06 48     122.86     24.83       4.03  157.20\n",
       "12     13  1991 12 17 01 33 37     122.22     24.17       4.55   13.76\n",
       "13     14  1991 12 16 18 12 57     121.73     22.04       4.08  122.31\n",
       "14     15  1991 12 15 04 03 04     122.81     24.11       5.13   31.34\n",
       "15     16  1991 12 14 14 12 03     122.81     23.88       4.20   16.82\n",
       "16     17  1991 12 10 08 12 28     122.39     23.90       4.26    5.78\n",
       "17     18  1991 12 10 07 51 15     122.32     23.96       4.37   14.22\n",
       "18     19  1991 12 10 07 43 23     122.35     23.92       4.84   14.98\n",
       "19     20  1991 12 10 07 30 16     122.44     23.91       5.04    6.12\n",
       "20     21  1991 12 09 14 35 25     122.52     23.69       4.47    0.20\n",
       "21     22  1991 12 08 22 23 32     122.50     23.91       5.14   16.97\n",
       "22     23  1991 12 06 12 31 41     122.77     23.96       4.25    3.40\n",
       "23     24  1991 12 06 07 29 01     122.07     24.93       4.09  104.28\n",
       "24     25  1991 12 05 15 48 23     121.40     22.68       5.24   22.47\n",
       "25     26  1991 12 05 12 30 40     119.94     21.29       4.01   70.67\n",
       "26     27  1991 12 02 16 40 55     122.77     24.40       4.13   29.08\n",
       "27     28  1991 12 02 06 14 15     121.70     23.18       5.48   35.03\n",
       "28     29  1991 11 29 09 01 39     120.09     22.31       4.18   43.09\n",
       "29     30  1991 11 25 10 29 11     121.68     23.16       5.00   33.62\n",
       "...   ...                  ...        ...       ...        ...     ...\n",
       "6533  370  2006 02 26 15 52 55     121.36     22.62       4.48   25.22\n",
       "6534  371  2006 02 25 00 38 51     121.93     24.42       4.12   28.13\n",
       "6535  372  2006 02 24 21 39 37     121.94     24.42       4.32   28.38\n",
       "6536  373  2006 02 24 21 16 34     122.33     25.30       4.16  241.09\n",
       "6537  374  2006 02 24 17 02 50     121.69     24.02       4.07   28.31\n",
       "6538  375  2006 02 24 01 55 50     122.23     24.78       5.17   12.56\n",
       "6539  376  2006 02 23 20 19 05     121.00     24.04       4.55   24.98\n",
       "6540  377  2006 02 21 13 45 41     121.53     21.97       4.34   93.04\n",
       "6541  378  2006 02 18 14 22 14     121.45     23.92       4.31   21.88\n",
       "6542  379  2006 02 07 15 41 55     121.78     24.81       4.78   89.48\n",
       "6543  380  2006 02 07 03 56 49     121.83     22.06       4.50  146.71\n",
       "6544  381  2006 01 30 05 49 56     121.83     24.29       4.09   11.52\n",
       "6545  382  2006 01 30 01 42 41     121.65     24.14       4.20   35.01\n",
       "6546  383  2006 01 28 14 02 54     121.30     22.59       4.35   38.38\n",
       "6547  384  2006 01 26 21 43 49     120.03     21.39       4.10   70.10\n",
       "6548  385  2006 01 26 21 19 27     120.09     21.40       4.28   73.76\n",
       "6549  386  2006 01 26 15 10 59     122.29     25.32       5.35  255.60\n",
       "6550  387  2006 01 23 04 20 03     122.30     24.02       4.74   18.88\n",
       "6551  388  2006 01 23 04 18 57     122.29     24.01       4.86   17.62\n",
       "6552  389  2006 01 22 07 07 37     122.32     23.96       4.94    5.83\n",
       "6553  390  2006 01 22 03 05 29     122.70     23.97       4.05   42.66\n",
       "6554  391  2006 01 19 20 44 51     122.35     24.52       4.40   67.04\n",
       "6555  392  2006 01 15 12 18 43     122.36     24.74       4.49  102.28\n",
       "6556  393  2006 01 13 16 59 58     122.85     23.78       4.48   44.21\n",
       "6557  394  2006 01 11 12 06 16     121.31     22.40       4.26    5.12\n",
       "6558  395  2006 01 09 10 39 55     121.75     24.59       4.18   67.98\n",
       "6559  396  2006 01 08 17 01 38     121.40     23.21       5.10   21.65\n",
       "6560  397  2006 01 07 11 52 41     121.99     24.62       4.45   64.87\n",
       "6561  398  2006 01 05 08 05 56     121.72     22.57       4.24   15.56\n",
       "6562  399  2006 01 02 03 34 28     122.26     24.72       4.18    5.28\n",
       "\n",
       "[6563 rows x 6 columns]"
      ]
     },
     "execution_count": 122,
     "metadata": {},
     "output_type": "execute_result"
    }
   ],
   "source": [
    "eq"
   ]
  },
  {
   "cell_type": "code",
   "execution_count": 124,
   "metadata": {},
   "outputs": [
    {
     "data": {
      "text/plain": [
       "{'boxes': [<matplotlib.lines.Line2D at 0x1ed1f2d0>],\n",
       " 'caps': [<matplotlib.lines.Line2D at 0x1ed1fa50>,\n",
       "  <matplotlib.lines.Line2D at 0x1ed1fcd0>],\n",
       " 'fliers': [<matplotlib.lines.Line2D at 0x1ed27210>],\n",
       " 'means': [],\n",
       " 'medians': [<matplotlib.lines.Line2D at 0x1ed1ffd0>],\n",
       " 'whiskers': [<matplotlib.lines.Line2D at 0x1ed1f550>,\n",
       "  <matplotlib.lines.Line2D at 0x1ed1f7d0>]}"
      ]
     },
     "execution_count": 124,
     "metadata": {},
     "output_type": "execute_result"
    },
    {
     "data": {
      "image/png": "[encoded data removed]",
      "text/plain": [
       "<matplotlib.figure.Figure at 0x1ec412f0>"
      ]
     },
     "metadata": {},
     "output_type": "display_data"
    }
   ],
   "source": [
    "plt.boxplot(eq['magnitude'])"
   ]
  },
  {
   "cell_type": "code",
   "execution_count": 141,
   "metadata": {},
   "outputs": [
    {
     "data": {
      "text/plain": [
       "(array([  1.13700000e+03,   1.03800000e+03,   8.68000000e+02,\n",
       "          6.49000000e+02,   5.58000000e+02,   4.52000000e+02,\n",
       "          3.74000000e+02,   3.25000000e+02,   2.46000000e+02,\n",
       "          1.85000000e+02,   1.74000000e+02,   1.19000000e+02,\n",
       "          1.05000000e+02,   7.50000000e+01,   4.80000000e+01,\n",
       "          3.50000000e+01,   3.70000000e+01,   3.00000000e+01,\n",
       "          2.00000000e+01,   1.20000000e+01,   1.40000000e+01,\n",
       "          1.00000000e+01,   1.30000000e+01,   3.00000000e+00,\n",
       "          8.00000000e+00,   5.00000000e+00,   6.00000000e+00,\n",
       "          5.00000000e+00,   4.00000000e+00,   5.00000000e+00,\n",
       "          1.00000000e+00,   1.00000000e+00,   1.00000000e+00]),\n",
       " array([ 4. ,  4.1,  4.2,  4.3,  4.4,  4.5,  4.6,  4.7,  4.8,  4.9,  5. ,\n",
       "         5.1,  5.2,  5.3,  5.4,  5.5,  5.6,  5.7,  5.8,  5.9,  6. ,  6.1,\n",
       "         6.2,  6.3,  6.4,  6.5,  6.6,  6.7,  6.8,  6.9,  7. ,  7.1,  7.2,\n",
       "         7.3]),\n",
       " <a list of 33 Patch objects>)"
      ]
     },
     "execution_count": 141,
     "metadata": {},
     "output_type": "execute_result"
    },
    {
     "data": {
      "image/png": "[encoded data removed]",
      "text/plain": [
       "<matplotlib.figure.Figure at 0x1ede8cb0>"
      ]
     },
     "metadata": {},
     "output_type": "display_data"
    }
   ],
   "source": [
    "plt.hist(eq['magnitude'],bins=33)"
   ]
  },
  {
   "cell_type": "code",
   "execution_count": 134,
   "metadata": {
    "scrolled": true
   },
   "outputs": [],
   "source": [
    "a = max(eq['magnitude'])"
   ]
  },
  {
   "cell_type": "code",
   "execution_count": 135,
   "metadata": {},
   "outputs": [],
   "source": [
    "b = min(eq['magnitude'])"
   ]
  },
  {
   "cell_type": "code",
   "execution_count": 140,
   "metadata": {},
   "outputs": [
    {
     "data": {
      "text/plain": [
       "0.099999999999999992"
      ]
     },
     "execution_count": 140,
     "metadata": {},
     "output_type": "execute_result"
    }
   ],
   "source": [
    "(a - b)/33"
   ]
  },
  {
   "cell_type": "code",
   "execution_count": null,
   "metadata": {},
   "outputs": [],
   "source": []
  }
 ],
 "metadata": {
  "kernelspec": {
   "display_name": "Python 3",
   "language": "python",
   "name": "python3"
  },
  "language_info": {
   "codemirror_mode": {
    "name": "ipython",
    "version": 3
   },
   "file_extension": ".py",
   "mimetype": "text/x-python",
   "name": "python",
   "nbconvert_exporter": "python",
   "pygments_lexer": "ipython3",
   "version": "3.6.3"
  }
 },
 "nbformat": 4,
 "nbformat_minor": 2
}
